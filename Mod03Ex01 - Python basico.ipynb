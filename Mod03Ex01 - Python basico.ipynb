{
 "cells": [
  {
   "cell_type": "markdown",
   "metadata": {},
   "source": [
    "### 01 - Teste de gravidez\n",
    "Escreva uma célula com controle de fluxos que tem como premissa a existência das seguintes variáveis:\n",
    "\n",
    "- ```sexo``` como ```str``` indicando os valores '**M**' para masculino e '**F**' para feminino  \n",
    "- ```beta_hcg``` que indica a quantidade do beta-HCG no sangue em mUI/mL.\n",
    "\n",
    "A sua tarefa é escrever um código que imprima como resultado \"indivíduo do sexo masculino\" quando sexo = 'M', caso sexo = 'F', se o valor de beta-HCG for maior que 5, retorne \"Positivo\" indicando que a paciente está grávida, e retorne \"Negativo\" caso contrário.\n",
    "\n",
    "Não mexa nos valores da variável ```sexo``` nem em ```beta_hcg```, e escreva um código que funcione para quaisquer valores possíveis de ambos: ```sexo``` = '**M**' ou '**F**' e ```beta_hcg``` assumindo valores inteiros positivos."
   ]
  },
  {
   "cell_type": "code",
   "execution_count": 5,
   "metadata": {},
   "outputs": [
    {
     "name": "stdout",
     "output_type": "stream",
     "text": [
      "indivíduo do sexo masculino\n"
     ]
    }
   ],
   "source": [
    "# Variáveis fornecidas.\n",
    "sexo = 'M'\n",
    "beta_hcg = 0\n",
    "\n",
    "# Condicional para verificar o sexo: no caso de feminino o valor de beta_hcg for maior que 5 imprima positivo, caso contrário imprima negativo.\n",
    "if sexo == 'M':\n",
    "    print(\"indivíduo do sexo masculino\")\n",
    "elif sexo == 'F':\n",
    "    if beta_hcg > 5:\n",
    "        print(\"Positivo\")\n",
    "    else:\n",
    "        print(\"Negativo\")\n"
   ]
  },
  {
   "cell_type": "markdown",
   "metadata": {},
   "source": [
    "### 02 - Renomeando variáveis\n",
    "\n",
    "Vamos ver adiante que uma forma de renomear variáveis de um conjunto de dados é através de dicionários - o dicionário deve conter como chave o nome original, associando a cada chave um único valor (tipo *str*) que contenha o nome novo.\n",
    "\n",
    "A sua tarefa é escrever um dicionário que possa ser utilizado para traduzir as variáveis ```name``` (nome), ```age``` (idade) e ```income``` (renda). Ou seja, esse dicionário deve relacionar as chaves *name, age* e *income* às suas respectivas traduções."
   ]
  },
  {
   "cell_type": "code",
   "execution_count": 7,
   "metadata": {},
   "outputs": [
    {
     "data": {
      "text/plain": [
       "{'name': 'nome', 'age': 'idade', 'income': 'renda'}"
      ]
     },
     "execution_count": 7,
     "metadata": {},
     "output_type": "execute_result"
    }
   ],
   "source": [
    "# Dicionário para renomear variáveis\n",
    "dic_renomeacao = {\n",
    "    'name': 'nome',\n",
    "    'age': 'idade',\n",
    "    'income': 'renda'\n",
    "}\n",
    "\n",
    "# Exibindo o dicionário para conferência\n",
    "dic_renomeacao\n"
   ]
  },
  {
   "cell_type": "markdown",
   "metadata": {},
   "source": [
    "### 03 - É divisível?\n",
    "A sua tarefa é escrever um código que indique se um número ```N``` é divisível por um número M. Escreva um programa que faça essa verificação para quaisquer combinações de ```N``` e ```M``` e devolva uma mensagem indicativa no output."
   ]
  },
  {
   "cell_type": "code",
   "execution_count": 9,
   "metadata": {},
   "outputs": [
    {
     "name": "stdout",
     "output_type": "stream",
     "text": [
      "O número 42 é divisível por 7.\n"
     ]
    }
   ],
   "source": [
    "# Definindo os valores de N e M\n",
    "N = 42\n",
    "M = 7\n",
    "\n",
    "# Verificando se N é divisível por M\n",
    "if N % M == 0:\n",
    "    print(f'O número {N} é divisível por {M}.')\n",
    "else:\n",
    "    print(f'O número {N} não é divisível por {M}.')\n"
   ]
  },
  {
   "cell_type": "markdown",
   "metadata": {},
   "source": [
    "### 04 - Números primos\n",
    "> Um número **N** é primo se e somente se é divisível por 1, -1, por **N** e por -**N**.  \n",
    "\n",
    "Escreva um script que verifica se ```N``` é um número primo, verificando se ```N``` é divisível por todos os números de ```1``` a ```N-1```. Você vai precisar usar alguma ferramenta de *loop* que você aprendeu para isto. No final, devolva uma mensagem no output indicando se o número é primo ou não."
   ]
  },
  {
   "cell_type": "code",
   "execution_count": 11,
   "metadata": {},
   "outputs": [
    {
     "name": "stdout",
     "output_type": "stream",
     "text": [
      "47 é um número primo.\n"
     ]
    }
   ],
   "source": [
    "# Definindo o número que queremos verificar\n",
    "N = 47\n",
    "\n",
    "# Variável para armazenar se o número é primo ou não\n",
    "# Assume que o número é primo até provar o contrário\n",
    "is_prime = True\n",
    "\n",
    "# Verificar se N é divisível por algum número de 2 a N-1\n",
    "for i in range(2, N):\n",
    "    if N % i == 0:\n",
    "        is_prime = False\n",
    "        break  # Se encontrar um divisor, pode parar o loop\n",
    "\n",
    "# Exibir o resultado\n",
    "if is_prime:\n",
    "    print(f\"{N} é um número primo.\")\n",
    "else:\n",
    "    print(f\"{N} não é um número primo.\")\n"
   ]
  },
  {
   "cell_type": "markdown",
   "metadata": {},
   "source": [
    "### 05 - Desafio\n",
    "O algorítmo do exercício anterior não é o mais eficiente. O que você pode fazer para deixá-lo mais eficiente? Ou seja, executar menos comparações, portanto consumir menos tempo.\n",
    "1. Será que precisamos correr o loop até o final sempre?\n",
    "2. Será que precisamos mesmo verificar **todos** os números?\n",
    "3. Será que precisamos ir até N-1?\n",
    "\n",
    "Essas perguntas levam ao tipo de pensamento voltado a deixar um algoritmo mais eficiente. Veja se você consegue melhorar o seu."
   ]
  },
  {
   "cell_type": "code",
   "execution_count": 13,
   "metadata": {},
   "outputs": [
    {
     "name": "stdout",
     "output_type": "stream",
     "text": [
      "98 não é um número primo.\n"
     ]
    }
   ],
   "source": [
    "import math\n",
    "\n",
    "# Definir o número a ser verificado\n",
    "N = 98\n",
    "\n",
    "# Verificar casos triviais primeiro\n",
    "if N < 2:\n",
    "    is_prime = False\n",
    "elif N == 2:\n",
    "    is_prime = True  # 2 é primo\n",
    "elif N % 2 == 0:\n",
    "    is_prime = False  # Números pares > 2 não são primos\n",
    "else:\n",
    "    # Verificar divisibilidade de 3 até sqrt(N), apenas para números ímpares\n",
    "    is_prime = True  # Suponha que é primo\n",
    "    for i in range(3, int(math.sqrt(N)) + 1, 2):\n",
    "        if N % i == 0:\n",
    "            is_prime = False\n",
    "            break\n",
    "\n",
    "# Exibir o resultado\n",
    "if is_prime:\n",
    "    print(f\"{N} é um número primo.\")\n",
    "else:\n",
    "    print(f\"{N} não é um número primo.\")\n"
   ]
  },
  {
   "cell_type": "markdown",
   "metadata": {},
   "source": [
    "### 06 - Peso ideal 1\n",
    "O IMC (índice de massa corpórea) é um indicador de saúde mais bem aceito que o peso. Ele é calculado como:\n",
    "\n",
    "$$ IMC = \\dfrac{peso}{altura^2}$$\n",
    "\n",
    "Segundo a OMS, valores *normais* são entre 18.5 e 24.9.\n",
    "\n",
    "Sua tarefa é encontrar o ponto médio dessa faixa."
   ]
  },
  {
   "cell_type": "code",
   "execution_count": 5,
   "metadata": {},
   "outputs": [
    {
     "name": "stdout",
     "output_type": "stream",
     "text": [
      "O ponto médio da faixa de IMC é 21.7\n"
     ]
    }
   ],
   "source": [
    "# Cálculo do ponto médio do IMC\n",
    "\n",
    "# Definindo os valores de referência da OMS\n",
    "imc_min = 18.5\n",
    "imc_max = 24.9\n",
    "\n",
    "# Calculando o ponto médio\n",
    "imc = (imc_min + imc_max) / 2\n",
    "\n",
    "# Exibindo o resultado\n",
    "print(f'O ponto médio da faixa de IMC é {imc:.1f}')"
   ]
  },
  {
   "cell_type": "markdown",
   "metadata": {},
   "source": [
    "### 07 - Peso ideal 2\n",
    "Recebendo um valor de altura, encontre o peso '*ideal*' dessa pessoa, que fornece o IMC encontrado acima"
   ]
  },
  {
   "cell_type": "code",
   "execution_count": 7,
   "metadata": {},
   "outputs": [
    {
     "name": "stdout",
     "output_type": "stream",
     "text": [
      "O peso ideal para uma altura de 1.7 m e um IMC de 21.7 é 62.71 kg\n"
     ]
    }
   ],
   "source": [
    "# Dados fornecidos\n",
    "altura = 1.70\n",
    "imc_ideal = 21.7\n",
    "\n",
    "# Calculando o peso ideal\n",
    "peso_ideal = imc_ideal * (altura ** 2)\n",
    "\n",
    "# Exibindo o peso ideal\n",
    "print(f'O peso ideal para uma altura de {altura} m e um IMC de {imc_ideal} é {peso_ideal:.2f} kg')\n"
   ]
  },
  {
   "cell_type": "markdown",
   "metadata": {},
   "source": [
    "### 08 - Peso ideal 3\n",
    "Dada uma lista contendo as alturas de pacientes, crie uma nova lista que contenha o peso '*ideal*' (que fornece o IMC calculado em **Peso ideal 1**) desses pacientes."
   ]
  },
  {
   "cell_type": "code",
   "execution_count": 9,
   "metadata": {},
   "outputs": [
    {
     "data": {
      "text/plain": [
       "[70.34625,\n",
       " 94.68224999999998,\n",
       " 77.74624999999999,\n",
       " 104.64224999999999,\n",
       " 53.464999999999996,\n",
       " 71.96099999999998,\n",
       " 50.366249999999994,\n",
       " 67.79024999999999]"
      ]
     },
     "execution_count": 9,
     "metadata": {},
     "output_type": "execute_result"
    }
   ],
   "source": [
    "# Peso Ideal - Cálculo do IMC\n",
    "\n",
    "# Definindo a lista de alturas dos pacientes\n",
    "lista_alturas = [1.95, 2.05, 1.70, 1.65]\n",
    "\n",
    "# Definindo os limites de IMC para calcular o peso ideal\n",
    "imc_min = 18.5\n",
    "imc_max = 24.9\n",
    "\n",
    "# Calculando o peso ideal com base nas alturas e IMCs mínimo e máximo\n",
    "lista_peso_ideal = [(imc * altura ** 2) for altura in lista_alturas for imc in [imc_min, imc_max]]\n",
    "\n",
    "# Exibindo a nova lista de pesos ideais\n",
    "lista_peso_ideal"
   ]
  },
  {
   "cell_type": "markdown",
   "metadata": {},
   "source": [
    "### 09 - Peso ideal 4\n",
    "Dada uma lista de tuplas - cada elemento da lista é uma tupla contendo altura e peso de um paciente - crie uma nova lista com o IMC desses pacientes."
   ]
  },
  {
   "cell_type": "code",
   "execution_count": 11,
   "metadata": {},
   "outputs": [
    {
     "name": "stdout",
     "output_type": "stream",
     "text": [
      "[27.777777777777775, 27.548209366391188, 19.188070502453332]\n"
     ]
    }
   ],
   "source": [
    "# Lista de tuplas com altura e peso\n",
    "altura_peso = [(1.80, 90), (1.65, 75), (1.91, 70)]\n",
    "\n",
    "# Lista vazia para armazenar os IMCs\n",
    "imc = []\n",
    "\n",
    "# Função para calcular o IMC\n",
    "def calcular_imc(altura, peso):\n",
    "  return peso / (altura ** 2)\n",
    "\n",
    "# Calculando o IMC para cada paciente e adicionando à lista imc\n",
    "for altura, peso in altura_peso:\n",
    "  imc.append(calcular_imc(altura, peso))\n",
    "\n",
    "# Imprimindo a lista de IMCs\n",
    "print(imc)"
   ]
  },
  {
   "cell_type": "markdown",
   "metadata": {},
   "source": [
    "### 10 - Peso ideal 5\n",
    "Dada uma lista de **listas** - cada elemento da lista é uma **lista** contendo altura e peso de um paciente, adicione mais um elemento à lista de cada paciente contendo o IMC do paciente. Verifique também se é 'baixo', 'normal' ou 'alto' segundo os padrões da OMS em que normal é entre 18.5 e 24.9.\n",
    "\n",
    "Reflexão: por que no problema anterior temos que criar uma nova lista, e não podemos adicionar os dados de cada indivíduo à tupla?"
   ]
  },
  {
   "cell_type": "code",
   "execution_count": 13,
   "metadata": {},
   "outputs": [
    {
     "name": "stdout",
     "output_type": "stream",
     "text": [
      "[[1.8, 90, 27.777777777777775, 'alto'], [1.65, 75, 27.548209366391188, 'alto'], [1.91, 70, 19.188070502453332, 'normal']]\n"
     ]
    }
   ],
   "source": [
    "def calcular_imc_e_classificar(altura, peso):\n",
    "  imc = peso / (altura ** 2)\n",
    "  if imc < 18.5:\n",
    "    classificacao = 'baixo'\n",
    "  elif 18.5 <= imc <= 24.9:\n",
    "    classificacao = 'normal'\n",
    "  else:\n",
    "    classificacao = 'alto'\n",
    "  return imc, classificacao\n",
    "\n",
    "altura_peso = [[1.80, 90], [1.65, 75], [1.91, 70]]\n",
    "\n",
    "for paciente in altura_peso:\n",
    "  altura, peso = paciente\n",
    "  imc, classificacao = calcular_imc_e_classificar(altura, peso)\n",
    "  paciente.extend([imc, classificacao])\n",
    "\n",
    "print(altura_peso)"
   ]
  }
 ],
 "metadata": {
  "kernelspec": {
   "display_name": "Python 3 (ipykernel)",
   "language": "python",
   "name": "python3"
  },
  "language_info": {
   "codemirror_mode": {
    "name": "ipython",
    "version": 3
   },
   "file_extension": ".py",
   "mimetype": "text/x-python",
   "name": "python",
   "nbconvert_exporter": "python",
   "pygments_lexer": "ipython3",
   "version": "3.12.4"
  }
 },
 "nbformat": 4,
 "nbformat_minor": 4
}
